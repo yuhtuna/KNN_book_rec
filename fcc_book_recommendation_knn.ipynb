{
  "cells": [
    {
      "cell_type": "code",
      "execution_count": 1,
      "metadata": {
        "id": "Y1onB6kUvo4Z"
      },
      "outputs": [],
      "source": [
        "# import libraries (you may add additional imports but you may not have to)\n",
        "import numpy as np\n",
        "import pandas as pd\n",
        "from scipy.sparse import csr_matrix\n",
        "from sklearn.neighbors import NearestNeighbors\n",
        "import matplotlib.pyplot as plt"
      ]
    },
    {
      "cell_type": "code",
      "execution_count": 2,
      "metadata": {
        "id": "iAQGqqO_vo4d"
      },
      "outputs": [],
      "source": [
        "# get data files\n",
        "import os\n",
        "\n",
        "PATH = \"book-crossings\"\n",
        "books_filename = os.path.join(PATH, 'BX-Books.csv')\n",
        "ratings_filename = os.path.join(PATH, 'BX-Book-Ratings.csv')\n"
      ]
    },
    {
      "cell_type": "code",
      "execution_count": 44,
      "metadata": {
        "id": "NClILWOiEd6Q"
      },
      "outputs": [],
      "source": [
        "# import csv data into dataframes\n",
        "df_books = pd.read_csv(\n",
        "    books_filename,\n",
        "    encoding = \"ISO-8859-1\",\n",
        "    sep=\";\",\n",
        "    header=0,\n",
        "    names=['isbn', 'title', 'author'],\n",
        "    usecols=['isbn', 'title', 'author'],\n",
        "    dtype={'isbn': 'str', 'title': 'str', 'author': 'str'})\n",
        "\n",
        "df_ratings = pd.read_csv(\n",
        "    ratings_filename,\n",
        "    encoding = \"ISO-8859-1\",\n",
        "    sep=\";\",\n",
        "    header=0,\n",
        "    names=['user', 'isbn', 'rating'],\n",
        "    usecols=['user', 'isbn', 'rating'],\n",
        "    dtype={'user': 'int32', 'isbn': 'str', 'rating': 'float32'})\n"
      ]
    },
    {
      "cell_type": "code",
      "execution_count": 81,
      "metadata": {},
      "outputs": [
        {
          "data": {
            "text/html": [
              "<div>\n",
              "<style scoped>\n",
              "    .dataframe tbody tr th:only-of-type {\n",
              "        vertical-align: middle;\n",
              "    }\n",
              "\n",
              "    .dataframe tbody tr th {\n",
              "        vertical-align: top;\n",
              "    }\n",
              "\n",
              "    .dataframe thead th {\n",
              "        text-align: right;\n",
              "    }\n",
              "</style>\n",
              "<table border=\"1\" class=\"dataframe\">\n",
              "  <thead>\n",
              "    <tr style=\"text-align: right;\">\n",
              "      <th></th>\n",
              "      <th>user</th>\n",
              "      <th>isbn</th>\n",
              "      <th>rating</th>\n",
              "      <th>title</th>\n",
              "    </tr>\n",
              "  </thead>\n",
              "  <tbody>\n",
              "    <tr>\n",
              "      <th>0</th>\n",
              "      <td>276725</td>\n",
              "      <td>034545104X</td>\n",
              "      <td>0.0</td>\n",
              "      <td>Flesh Tones: A Novel</td>\n",
              "    </tr>\n",
              "    <tr>\n",
              "      <th>1</th>\n",
              "      <td>2313</td>\n",
              "      <td>034545104X</td>\n",
              "      <td>5.0</td>\n",
              "      <td>Flesh Tones: A Novel</td>\n",
              "    </tr>\n",
              "    <tr>\n",
              "      <th>2</th>\n",
              "      <td>6543</td>\n",
              "      <td>034545104X</td>\n",
              "      <td>0.0</td>\n",
              "      <td>Flesh Tones: A Novel</td>\n",
              "    </tr>\n",
              "    <tr>\n",
              "      <th>3</th>\n",
              "      <td>8680</td>\n",
              "      <td>034545104X</td>\n",
              "      <td>5.0</td>\n",
              "      <td>Flesh Tones: A Novel</td>\n",
              "    </tr>\n",
              "    <tr>\n",
              "      <th>4</th>\n",
              "      <td>10314</td>\n",
              "      <td>034545104X</td>\n",
              "      <td>9.0</td>\n",
              "      <td>Flesh Tones: A Novel</td>\n",
              "    </tr>\n",
              "  </tbody>\n",
              "</table>\n",
              "</div>"
            ],
            "text/plain": [
              "     user        isbn  rating                 title\n",
              "0  276725  034545104X     0.0  Flesh Tones: A Novel\n",
              "1    2313  034545104X     5.0  Flesh Tones: A Novel\n",
              "2    6543  034545104X     0.0  Flesh Tones: A Novel\n",
              "3    8680  034545104X     5.0  Flesh Tones: A Novel\n",
              "4   10314  034545104X     9.0  Flesh Tones: A Novel"
            ]
          },
          "execution_count": 81,
          "metadata": {},
          "output_type": "execute_result"
        }
      ],
      "source": [
        "# Merge books and ratings to get the titles\n",
        "df_merged = pd.merge(df_ratings, df_books[['isbn', 'title']], on='isbn')\n",
        "df_merged.head(5)"
      ]
    },
    {
      "cell_type": "code",
      "execution_count": 136,
      "metadata": {},
      "outputs": [
        {
          "data": {
            "text/plain": [
              "title\n",
              "Wild Animus                   2502\n",
              "The Lovely Bones: A Novel     1295\n",
              "The Da Vinci Code              897\n",
              "The Nanny Diaries: A Novel     821\n",
              "A Painted House                818\n",
              "Name: count, dtype: int64"
            ]
          },
          "execution_count": 136,
          "metadata": {},
          "output_type": "execute_result"
        }
      ],
      "source": [
        "# Count ratings per user and per book\n",
        "user_counts = df_merged['user'].value_counts()\n",
        "book_counts = df_merged['title'].value_counts()\n",
        "# user_counts.head(5)\n",
        "book_counts.head(5)"
      ]
    },
    {
      "cell_type": "code",
      "execution_count": 143,
      "metadata": {
        "id": "xAcXjkCFCh0A"
      },
      "outputs": [],
      "source": [
        "# Start with the ratings dataframe\n",
        "df = df_ratings\n",
        "\n",
        "# Step 1: Filter out users and books with too few ratings\n",
        "user_counts = df['user'].value_counts()\n",
        "book_counts = df['isbn'].value_counts()\n",
        "\n",
        "# Filter to keep users with at least 200 ratings\n",
        "popular_users = user_counts[user_counts >= 200].index\n",
        "df = df[df['user'].isin(popular_users)]\n",
        "\n",
        "# Filter to keep books with at least 100 ratings\n",
        "popular_books = book_counts[book_counts >= 100].index\n",
        "df = df[df['isbn'].isin(popular_books)]\n",
        "\n",
        "# Step 2: Merge in book titles from df_books\n",
        "df = pd.merge(right=df, left=df_books, on=\"isbn\")\n",
        "\n",
        "# Step 3: Remove duplicate ratings per user-book pair\n",
        "df = df.drop_duplicates(subset=['title', 'user'])\n",
        "\n",
        "# Step 4: Create pivot table (books as rows, users as columns)\n",
        "ratings_pivot = df.pivot(index='title', columns='user', values='rating').fillna(0)\n",
        "ratings_matrix = ratings_pivot.values\n",
        "\n",
        "# Step 5: Train the k-NN model\n",
        "model = NearestNeighbors(metric='cosine', algorithm='brute')\n",
        "model.fit(ratings_matrix)\n",
        "\n",
        "# Step 6: Build index mapping\n",
        "book_titles = ratings_pivot.index\n",
        "indices = pd.Series(range(len(book_titles)), index=book_titles)\n",
        "\n",
        "# Step 7: Define recommendation function\n",
        "def get_recommends(book = \"\"):\n",
        "  x=ratings_pivot.loc[book].array.reshape(1, -1)\n",
        "  distances,indices=model.kneighbors(x,n_neighbors=6)\n",
        "  R_books=[]\n",
        "  for distance,indice in zip(distances[0],indices[0]):\n",
        "    if distance!=0:\n",
        "      R_book=ratings_pivot.index[indice]\n",
        "      R_books.append([R_book,distance])\n",
        "  recommended_books=[book,R_books[::-1]]\n",
        "  return recommended_books"
      ]
    },
    {
      "cell_type": "code",
      "execution_count": 144,
      "metadata": {},
      "outputs": [
        {
          "data": {
            "text/plain": [
              "['The Queen of the Damned (Vampire Chronicles (Paperback))',\n",
              " [['Catch 22', 0.7939835419270879],\n",
              "  ['The Witching Hour (Lives of the Mayfair Witches)', 0.7448657003312193],\n",
              "  ['Interview with the Vampire', 0.7345068863988313],\n",
              "  ['The Tale of the Body Thief (Vampire Chronicles (Paperback))',\n",
              "   0.5376338446489461],\n",
              "  ['The Vampire Lestat (Vampire Chronicles, Book II)', 0.5178411864186412],\n",
              "  ['The Queen of the Damned (Vampire Chronicles (Paperback))',\n",
              "   1.1102230246251565e-16]]]"
            ]
          },
          "execution_count": 144,
          "metadata": {},
          "output_type": "execute_result"
        }
      ],
      "source": [
        "get_recommends('The Queen of the Damned (Vampire Chronicles (Paperback))')\n"
      ]
    },
    {
      "cell_type": "code",
      "execution_count": 145,
      "metadata": {
        "id": "jd2SLCh8oxMh"
      },
      "outputs": [
        {
          "name": "stdout",
          "output_type": "stream",
          "text": [
            "[\"Where the Heart Is (Oprah's Book Club (Paperback))\", [[\"I'll Be Seeing You\", 0.8016210581447822], ['The Weight of Water', 0.7708583572697412], ['The Surgeon', 0.7699410973804288], ['I Know This Much Is True', 0.7677075092617776], ['The Lovely Bones: A Novel', 0.7234864549790632], [\"Where the Heart Is (Oprah's Book Club (Paperback))\", 2.220446049250313e-16]]]\n",
            "You passed the challenge! 🎉🎉🎉🎉🎉\n"
          ]
        }
      ],
      "source": [
        "books = get_recommends(\"Where the Heart Is (Oprah's Book Club (Paperback))\")\n",
        "print(books)\n",
        "\n",
        "def test_book_recommendation():\n",
        "  test_pass = True\n",
        "  recommends = get_recommends(\"Where the Heart Is (Oprah's Book Club (Paperback))\")\n",
        "  if recommends[0] != \"Where the Heart Is (Oprah's Book Club (Paperback))\":\n",
        "    test_pass = False\n",
        "  recommended_books = [\"I'll Be Seeing You\", 'The Weight of Water', 'The Surgeon', 'I Know This Much Is True']\n",
        "  recommended_books_dist = [0.8, 0.77, 0.77, 0.77]\n",
        "  for i in range(2):\n",
        "    if recommends[1][i][0] not in recommended_books:\n",
        "      test_pass = False\n",
        "    if abs(recommends[1][i][1] - recommended_books_dist[i]) >= 0.05:\n",
        "      test_pass = False\n",
        "  if test_pass:\n",
        "    print(\"You passed the challenge! 🎉🎉🎉🎉🎉\")\n",
        "  else:\n",
        "    print(\"You haven't passed yet. Keep trying!\")\n",
        "\n",
        "test_book_recommendation()"
      ]
    }
  ],
  "metadata": {
    "colab": {
      "name": "fcc_book_recommendation_knn.ipynb",
      "provenance": []
    },
    "kernelspec": {
      "display_name": "Python 3",
      "language": "python",
      "name": "python3"
    },
    "language_info": {
      "codemirror_mode": {
        "name": "ipython",
        "version": 3
      },
      "file_extension": ".py",
      "mimetype": "text/x-python",
      "name": "python",
      "nbconvert_exporter": "python",
      "pygments_lexer": "ipython3",
      "version": "3.8.10"
    }
  },
  "nbformat": 4,
  "nbformat_minor": 0
}
